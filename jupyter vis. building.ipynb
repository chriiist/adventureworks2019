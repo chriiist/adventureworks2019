{
 "cells": [
  {
   "cell_type": "code",
   "execution_count": 63,
   "metadata": {},
   "outputs": [],
   "source": [
    "#libraries\n",
    "import pyodbc #connecting to SQL\n",
    "import pandas as pd #data analysis\n",
    "import matplotlib.pyplot as plt #plots\n",
    "import numpy as np #numerical manipulations\n",
    "import matplotlib.patches as mpatches #for patches for a legend\n",
    "\n",
    "#connecting to the database\n",
    "conn = pyodbc.connect('Driver={SQL Server};'\n",
    "                      'Server=CHRIS-PC\\SERVER1;' #user name and server name\n",
    "                      'Database=AdventureWorks2019;'\n",
    "                      'Trusted_Connection=yes;')"
   ]
  },
  {
   "cell_type": "code",
   "execution_count": 64,
   "metadata": {},
   "outputs": [],
   "source": [
    "cursor = conn.cursor() #creating a cursor to execute SQL queries\n",
    "\n",
    "#executing query copied from SSMS\n",
    "cursor.execute(\"\"\"\n",
    "    SELECT \n",
    "        Title_Group,\n",
    "        AVG(avg_slh_pt) AS AVG_SickLeaveHours, \n",
    "        CASE \n",
    "            WHEN Title_Group = 'Chiefs' THEN AVG(CASE WHEN Level != 0 THEN Level ELSE NULL END)\n",
    "            ELSE AVG(Level)\n",
    "        END AS Avg_Level\n",
    "    FROM (\n",
    "        SELECT \n",
    "            CASE \n",
    "                WHEN JobTitle LIKE '%Manager%' THEN 'Managers'\n",
    "                WHEN JobTitle LIKE '%Assistant%' THEN 'Assistants'\n",
    "                WHEN JobTitle LIKE '%Specialist%' THEN 'Specialists'\n",
    "                WHEN JobTitle LIKE '%Chief%' AND JobTitle NOT LIKE '%Assistant%' THEN 'Chiefs'\n",
    "                WHEN JobTitle LIKE '%Vice President%' THEN 'Vice Presidents'\n",
    "                WHEN JobTitle LIKE '%Supervisor%' THEN 'Supervisors'\n",
    "                WHEN JobTitle LIKE '%Technician%' THEN 'Technicians'\n",
    "                WHEN JobTitle LIKE '%Engineer%' THEN 'Engineers'\n",
    "                WHEN JobTitle LIKE '%Designer%' THEN 'Designers'\n",
    "                WHEN JobTitle LIKE '%Administrator%' THEN 'Administrators'\n",
    "                WHEN JobTitle LIKE '%Scheduler%' THEN 'Schedulers'\n",
    "                WHEN JobTitle LIKE '%Buyer%' THEN 'Buyers'\n",
    "                WHEN JobTitle LIKE '%Janitor%' THEN 'Janitors'\n",
    "                WHEN JobTitle LIKE '%Stocker%' THEN 'Stockers'\n",
    "                WHEN JobTitle LIKE '%Clerk%' THEN 'Clerks'\n",
    "                WHEN JobTitle LIKE '%Accountant%' THEN 'Accountants'\n",
    "                WHEN JobTitle LIKE '%Recruiter%' THEN 'Recruiters'\n",
    "                WHEN JobTitle LIKE '%Representative%' THEN 'Representatives'\n",
    "                ELSE 'Other Titles'\n",
    "            END AS Title_Group, \n",
    "            ISNULL(OrganizationLevel, 0) AS Level,\n",
    "            AVG(SickLeaveHours) AS avg_slh_pt\n",
    "        FROM \n",
    "            HumanResources.Employee\n",
    "        GROUP BY \n",
    "            JobTitle, \n",
    "            OrganizationLevel\n",
    "    ) AS subquery\n",
    "    GROUP BY \n",
    "        Title_Group\n",
    "    ORDER BY \n",
    "        Avg_Level DESC;\n",
    "\"\"\")\n",
    "\n",
    "rows = cursor.fetchall() #to return the whole result from the query\n",
    "\n",
    "conn.close() #closing the connection"
   ]
  },
  {
   "cell_type": "code",
   "execution_count": 65,
   "metadata": {},
   "outputs": [],
   "source": [
    "#extracting groups, avg sick leave hours and avg levels from the result of the query\n",
    "title_groups = [row[0] for row in rows]\n",
    "avg_sick_leave_hours = [row[1] for row in rows]\n",
    "avg_level = [row[2] for row in rows]"
   ]
  },
  {
   "cell_type": "code",
   "execution_count": 66,
   "metadata": {},
   "outputs": [],
   "source": [
    "#now sorting based on levels in DESC \n",
    "sorted_idx = np.argsort(avg_level)[::-1] \n",
    "title_groups_sorted = [title_groups[i] for i in sorted_idx]\n",
    "avg_sick_leave_hours_sorted = [avg_sick_leave_hours[i] for i in sorted_idx]\n",
    "avg_level_sorted = [avg_level[i] for i in sorted_idx]"
   ]
  },
  {
   "cell_type": "code",
   "execution_count": 67,
   "metadata": {},
   "outputs": [],
   "source": [
    "#i want different colors for different levels\n",
    "level_colors = {\n",
    "    1: 'red',\n",
    "    2: 'orange',\n",
    "    3: 'yellow',\n",
    "    4: 'green'\n",
    "}\n",
    "\n",
    "#changing to a different style\n",
    "plt.style.use('dark_background')"
   ]
  },
  {
   "cell_type": "code",
   "execution_count": 68,
   "metadata": {},
   "outputs": [
    {
     "ename": "SyntaxError",
     "evalue": "unterminated string literal (detected at line 30) (1358657032.py, line 30)",
     "output_type": "error",
     "traceback": [
      "\u001b[1;36m  Cell \u001b[1;32mIn[68], line 30\u001b[1;36m\u001b[0m\n\u001b[1;33m    plt.text(0.5, -0.1,'Across all of the data collected, there is a strong correlation between\u001b[0m\n\u001b[1;37m                       ^\u001b[0m\n\u001b[1;31mSyntaxError\u001b[0m\u001b[1;31m:\u001b[0m unterminated string literal (detected at line 30)\n"
     ]
    }
   ],
   "source": [
    "#creating a plot\n",
    "#i want job title groups on x axis and avg sick ave hours on y axis\n",
    "#also using defined colors from the code above for different levels\n",
    "fig, ax = plt.subplots()\n",
    "x = np.arange(len(title_groups_sorted))\n",
    "width = 0.70\n",
    "\n",
    "bars = ax.bar(x, avg_sick_leave_hours_sorted, width, label='Avg Sick Leave Hours', color=[level_colors[level] for level in avg_level_sorted])\n",
    "\n",
    "#adding a midpoint that represents avg sick leave hours\n",
    "midpoint = np.mean(avg_sick_leave_hours_sorted)\n",
    "ax.axhline(midpoint, color='white', linestyle='--', label='Midpoint')\n",
    "\n",
    "#setting ticks/labels/title\n",
    "ax.set_xticks(x)\n",
    "ax.set_xticklabels([f'{title}' for title in title_groups_sorted], rotation=45, ha='right')\n",
    "ax.set_xlabel('Job Title Groups')\n",
    "ax.set_ylabel('Sick Leave Hours')\n",
    "ax.set_title('Average Sick Leave Hours by Title Groups')\n",
    "\n",
    "#adding a legend\n",
    "legend_patches = [mpatches.Patch(color=color, label=f'Level {level}') for level, color in level_colors.items()]\n",
    "legend_patches.append(mpatches.Patch(color='white', label='Midpoint'))\n",
    "ax.legend(handles=legend_patches, loc='upper left')\n",
    "\n",
    "#adjusting the layout for a better picture; displaying the plot\n",
    "plt.tight_layout()\n",
    "plt.show()"
   ]
  }
 ],
 "metadata": {
  "kernelspec": {
   "display_name": "Python 3",
   "language": "python",
   "name": "python3"
  },
  "language_info": {
   "codemirror_mode": {
    "name": "ipython",
    "version": 3
   },
   "file_extension": ".py",
   "mimetype": "text/x-python",
   "name": "python",
   "nbconvert_exporter": "python",
   "pygments_lexer": "ipython3",
   "version": "3.11.6"
  }
 },
 "nbformat": 4,
 "nbformat_minor": 2
}
